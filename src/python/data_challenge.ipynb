{
 "cells": [
  {
   "cell_type": "code",
   "execution_count": 1,
   "metadata": {},
   "outputs": [],
   "source": [
    "import sklearn\n",
    "import pandas as pd\n",
    "import numpy as np\n",
    "import json\n",
    "from matplotlib.legend_handler import HandlerLine2D\n",
    "import matplotlib.pyplot as plt"
   ]
  },
  {
   "cell_type": "code",
   "execution_count": 3,
   "metadata": {},
   "outputs": [],
   "source": [
    "from sklearn.preprocessing import StandardScaler\n",
    "from sklearn.decomposition import PCA\n",
    "from sklearn.pipeline import Pipeline\n",
    "from sklearn.impute import SimpleImputer\n",
    "from sklearn.compose import ColumnTransformer\n",
    "from sklearn.ensemble import GradientBoostingClassifier\n",
    "from sklearn.metrics import confusion_matrix, classification_report, auc, roc_curve\n",
    "from imblearn.pipeline import Pipeline as pipe"
   ]
  },
  {
   "cell_type": "code",
   "execution_count": 4,
   "metadata": {},
   "outputs": [
    {
     "data": {
      "text/plain": [
       "'/home/jovyan/binder'"
      ]
     },
     "execution_count": 4,
     "metadata": {},
     "output_type": "execute_result"
    }
   ],
   "source": [
    "pwd"
   ]
  },
  {
   "cell_type": "code",
   "execution_count": 5,
   "metadata": {},
   "outputs": [],
   "source": [
    "json_data = json.load(open('challenge.json')) #will need to change to where you have the file"
   ]
  },
  {
   "cell_type": "code",
   "execution_count": 6,
   "metadata": {},
   "outputs": [],
   "source": [
    "df = pd.DataFrame(json_data)"
   ]
  },
  {
   "cell_type": "code",
   "execution_count": 7,
   "metadata": {},
   "outputs": [
    {
     "data": {
      "text/html": [
       "<div>\n",
       "<style scoped>\n",
       "    .dataframe tbody tr th:only-of-type {\n",
       "        vertical-align: middle;\n",
       "    }\n",
       "\n",
       "    .dataframe tbody tr th {\n",
       "        vertical-align: top;\n",
       "    }\n",
       "\n",
       "    .dataframe thead th {\n",
       "        text-align: right;\n",
       "    }\n",
       "</style>\n",
       "<table border=\"1\" class=\"dataframe\">\n",
       "  <thead>\n",
       "    <tr style=\"text-align: right;\">\n",
       "      <th></th>\n",
       "      <th>branch_id</th>\n",
       "      <th>customer_code</th>\n",
       "      <th>group_code</th>\n",
       "      <th>is_churn</th>\n",
       "      <th>item_code</th>\n",
       "      <th>item_total_price</th>\n",
       "      <th>order_id</th>\n",
       "      <th>quantity</th>\n",
       "      <th>register_date</th>\n",
       "      <th>sales_channel</th>\n",
       "      <th>segment_code</th>\n",
       "      <th>seller_code</th>\n",
       "      <th>total_price</th>\n",
       "      <th>unit_price</th>\n",
       "    </tr>\n",
       "  </thead>\n",
       "  <tbody>\n",
       "    <tr>\n",
       "      <th>0</th>\n",
       "      <td>0</td>\n",
       "      <td>143</td>\n",
       "      <td>0</td>\n",
       "      <td>0</td>\n",
       "      <td>854</td>\n",
       "      <td>292.91</td>\n",
       "      <td>21804</td>\n",
       "      <td>10</td>\n",
       "      <td>2017-11-10T00:00:00Z</td>\n",
       "      <td>0</td>\n",
       "      <td>0</td>\n",
       "      <td>190</td>\n",
       "      <td>1613.53</td>\n",
       "      <td>25.04</td>\n",
       "    </tr>\n",
       "    <tr>\n",
       "      <th>1</th>\n",
       "      <td>0</td>\n",
       "      <td>433</td>\n",
       "      <td>0</td>\n",
       "      <td>0</td>\n",
       "      <td>246</td>\n",
       "      <td>287.19</td>\n",
       "      <td>5486</td>\n",
       "      <td>20</td>\n",
       "      <td>2011-05-16T00:00:00Z</td>\n",
       "      <td>1</td>\n",
       "      <td>5</td>\n",
       "      <td>153</td>\n",
       "      <td>11163.69</td>\n",
       "      <td>12.33</td>\n",
       "    </tr>\n",
       "    <tr>\n",
       "      <th>2</th>\n",
       "      <td>0</td>\n",
       "      <td>486</td>\n",
       "      <td>0</td>\n",
       "      <td>0</td>\n",
       "      <td>1420</td>\n",
       "      <td>184.84</td>\n",
       "      <td>22662</td>\n",
       "      <td>12</td>\n",
       "      <td>2018-01-24T00:00:00Z</td>\n",
       "      <td>0</td>\n",
       "      <td>0</td>\n",
       "      <td>166</td>\n",
       "      <td>6432.12</td>\n",
       "      <td>12.80</td>\n",
       "    </tr>\n",
       "    <tr>\n",
       "      <th>3</th>\n",
       "      <td>0</td>\n",
       "      <td>107</td>\n",
       "      <td>0</td>\n",
       "      <td>0</td>\n",
       "      <td>1963</td>\n",
       "      <td>189.18</td>\n",
       "      <td>3956</td>\n",
       "      <td>18</td>\n",
       "      <td>2010-07-28T00:00:00Z</td>\n",
       "      <td>1</td>\n",
       "      <td>0</td>\n",
       "      <td>156</td>\n",
       "      <td>831.82</td>\n",
       "      <td>10.51</td>\n",
       "    </tr>\n",
       "    <tr>\n",
       "      <th>4</th>\n",
       "      <td>0</td>\n",
       "      <td>768</td>\n",
       "      <td>0</td>\n",
       "      <td>0</td>\n",
       "      <td>1786</td>\n",
       "      <td>66.87</td>\n",
       "      <td>4730</td>\n",
       "      <td>5</td>\n",
       "      <td>2010-12-17T00:00:00Z</td>\n",
       "      <td>1</td>\n",
       "      <td>0</td>\n",
       "      <td>218</td>\n",
       "      <td>1736.48</td>\n",
       "      <td>11.82</td>\n",
       "    </tr>\n",
       "  </tbody>\n",
       "</table>\n",
       "</div>"
      ],
      "text/plain": [
       "   branch_id  customer_code  group_code is_churn  item_code  item_total_price  \\\n",
       "0          0            143           0        0        854            292.91   \n",
       "1          0            433           0        0        246            287.19   \n",
       "2          0            486           0        0       1420            184.84   \n",
       "3          0            107           0        0       1963            189.18   \n",
       "4          0            768           0        0       1786             66.87   \n",
       "\n",
       "   order_id  quantity         register_date  sales_channel  segment_code  \\\n",
       "0     21804        10  2017-11-10T00:00:00Z              0             0   \n",
       "1      5486        20  2011-05-16T00:00:00Z              1             5   \n",
       "2     22662        12  2018-01-24T00:00:00Z              0             0   \n",
       "3      3956        18  2010-07-28T00:00:00Z              1             0   \n",
       "4      4730         5  2010-12-17T00:00:00Z              1             0   \n",
       "\n",
       "   seller_code  total_price  unit_price  \n",
       "0          190      1613.53       25.04  \n",
       "1          153     11163.69       12.33  \n",
       "2          166      6432.12       12.80  \n",
       "3          156       831.82       10.51  \n",
       "4          218      1736.48       11.82  "
      ]
     },
     "execution_count": 7,
     "metadata": {},
     "output_type": "execute_result"
    }
   ],
   "source": [
    "df.head()"
   ]
  },
  {
   "cell_type": "code",
   "execution_count": 8,
   "metadata": {},
   "outputs": [],
   "source": [
    "import datetime\n",
    "now = datetime.datetime.now()"
   ]
  },
  {
   "cell_type": "code",
   "execution_count": 9,
   "metadata": {},
   "outputs": [
    {
     "name": "stdout",
     "output_type": "stream",
     "text": [
      "2019-08-22 15:10:36.013211\n"
     ]
    }
   ],
   "source": [
    "print(now)"
   ]
  },
  {
   "cell_type": "code",
   "execution_count": 10,
   "metadata": {},
   "outputs": [],
   "source": [
    "df['date'] = pd.to_datetime(df['register_date'])\n",
    "df['date_notz'] = df['date'].dt.tz_localize(None)"
   ]
  },
  {
   "cell_type": "code",
   "execution_count": 11,
   "metadata": {},
   "outputs": [],
   "source": [
    "df['years_active'] = ((now - df['date_notz']).dt.days)/365.0"
   ]
  },
  {
   "cell_type": "code",
   "execution_count": 12,
   "metadata": {},
   "outputs": [
    {
     "data": {
      "text/plain": [
       "Index(['branch_id', 'customer_code', 'group_code', 'is_churn', 'item_code',\n",
       "       'item_total_price', 'order_id', 'quantity', 'register_date',\n",
       "       'sales_channel', 'segment_code', 'seller_code', 'total_price',\n",
       "       'unit_price', 'date', 'date_notz', 'years_active'],\n",
       "      dtype='object')"
      ]
     },
     "execution_count": 12,
     "metadata": {},
     "output_type": "execute_result"
    }
   ],
   "source": [
    "df.columns"
   ]
  },
  {
   "cell_type": "code",
   "execution_count": 13,
   "metadata": {},
   "outputs": [],
   "source": [
    "df_drop = df.drop(['customer_code', 'order_id', 'register_date','date', 'date_notz'],axis=1)"
   ]
  },
  {
   "cell_type": "code",
   "execution_count": 14,
   "metadata": {},
   "outputs": [
    {
     "data": {
      "text/html": [
       "<div>\n",
       "<style scoped>\n",
       "    .dataframe tbody tr th:only-of-type {\n",
       "        vertical-align: middle;\n",
       "    }\n",
       "\n",
       "    .dataframe tbody tr th {\n",
       "        vertical-align: top;\n",
       "    }\n",
       "\n",
       "    .dataframe thead th {\n",
       "        text-align: right;\n",
       "    }\n",
       "</style>\n",
       "<table border=\"1\" class=\"dataframe\">\n",
       "  <thead>\n",
       "    <tr style=\"text-align: right;\">\n",
       "      <th></th>\n",
       "      <th>branch_id</th>\n",
       "      <th>group_code</th>\n",
       "      <th>is_churn</th>\n",
       "      <th>item_code</th>\n",
       "      <th>item_total_price</th>\n",
       "      <th>quantity</th>\n",
       "      <th>sales_channel</th>\n",
       "      <th>segment_code</th>\n",
       "      <th>seller_code</th>\n",
       "      <th>total_price</th>\n",
       "      <th>unit_price</th>\n",
       "      <th>years_active</th>\n",
       "    </tr>\n",
       "  </thead>\n",
       "  <tbody>\n",
       "    <tr>\n",
       "      <th>0</th>\n",
       "      <td>0</td>\n",
       "      <td>0</td>\n",
       "      <td>0</td>\n",
       "      <td>854</td>\n",
       "      <td>292.91</td>\n",
       "      <td>10</td>\n",
       "      <td>0</td>\n",
       "      <td>0</td>\n",
       "      <td>190</td>\n",
       "      <td>1613.53</td>\n",
       "      <td>25.04</td>\n",
       "      <td>1.780822</td>\n",
       "    </tr>\n",
       "    <tr>\n",
       "      <th>1</th>\n",
       "      <td>0</td>\n",
       "      <td>0</td>\n",
       "      <td>0</td>\n",
       "      <td>246</td>\n",
       "      <td>287.19</td>\n",
       "      <td>20</td>\n",
       "      <td>1</td>\n",
       "      <td>5</td>\n",
       "      <td>153</td>\n",
       "      <td>11163.69</td>\n",
       "      <td>12.33</td>\n",
       "      <td>8.273973</td>\n",
       "    </tr>\n",
       "    <tr>\n",
       "      <th>2</th>\n",
       "      <td>0</td>\n",
       "      <td>0</td>\n",
       "      <td>0</td>\n",
       "      <td>1420</td>\n",
       "      <td>184.84</td>\n",
       "      <td>12</td>\n",
       "      <td>0</td>\n",
       "      <td>0</td>\n",
       "      <td>166</td>\n",
       "      <td>6432.12</td>\n",
       "      <td>12.80</td>\n",
       "      <td>1.575342</td>\n",
       "    </tr>\n",
       "    <tr>\n",
       "      <th>3</th>\n",
       "      <td>0</td>\n",
       "      <td>0</td>\n",
       "      <td>0</td>\n",
       "      <td>1963</td>\n",
       "      <td>189.18</td>\n",
       "      <td>18</td>\n",
       "      <td>1</td>\n",
       "      <td>0</td>\n",
       "      <td>156</td>\n",
       "      <td>831.82</td>\n",
       "      <td>10.51</td>\n",
       "      <td>9.073973</td>\n",
       "    </tr>\n",
       "    <tr>\n",
       "      <th>4</th>\n",
       "      <td>0</td>\n",
       "      <td>0</td>\n",
       "      <td>0</td>\n",
       "      <td>1786</td>\n",
       "      <td>66.87</td>\n",
       "      <td>5</td>\n",
       "      <td>1</td>\n",
       "      <td>0</td>\n",
       "      <td>218</td>\n",
       "      <td>1736.48</td>\n",
       "      <td>11.82</td>\n",
       "      <td>8.684932</td>\n",
       "    </tr>\n",
       "  </tbody>\n",
       "</table>\n",
       "</div>"
      ],
      "text/plain": [
       "   branch_id  group_code is_churn  item_code  item_total_price  quantity  \\\n",
       "0          0           0        0        854            292.91        10   \n",
       "1          0           0        0        246            287.19        20   \n",
       "2          0           0        0       1420            184.84        12   \n",
       "3          0           0        0       1963            189.18        18   \n",
       "4          0           0        0       1786             66.87         5   \n",
       "\n",
       "   sales_channel  segment_code  seller_code  total_price  unit_price  \\\n",
       "0              0             0          190      1613.53       25.04   \n",
       "1              1             5          153     11163.69       12.33   \n",
       "2              0             0          166      6432.12       12.80   \n",
       "3              1             0          156       831.82       10.51   \n",
       "4              1             0          218      1736.48       11.82   \n",
       "\n",
       "   years_active  \n",
       "0      1.780822  \n",
       "1      8.273973  \n",
       "2      1.575342  \n",
       "3      9.073973  \n",
       "4      8.684932  "
      ]
     },
     "execution_count": 14,
     "metadata": {},
     "output_type": "execute_result"
    }
   ],
   "source": [
    "df_drop.head()"
   ]
  },
  {
   "cell_type": "code",
   "execution_count": 15,
   "metadata": {},
   "outputs": [
    {
     "data": {
      "text/plain": [
       "Index(['branch_id', 'group_code', 'is_churn', 'item_code', 'item_total_price',\n",
       "       'quantity', 'sales_channel', 'segment_code', 'seller_code',\n",
       "       'total_price', 'unit_price', 'years_active'],\n",
       "      dtype='object')"
      ]
     },
     "execution_count": 15,
     "metadata": {},
     "output_type": "execute_result"
    }
   ],
   "source": [
    "df_drop.columns"
   ]
  },
  {
   "cell_type": "code",
   "execution_count": 16,
   "metadata": {},
   "outputs": [],
   "source": [
    "df_drop = df_drop.drop('branch_id',axis=1)"
   ]
  },
  {
   "cell_type": "code",
   "execution_count": 17,
   "metadata": {},
   "outputs": [
    {
     "data": {
      "text/plain": [
       "2981"
      ]
     },
     "execution_count": 17,
     "metadata": {},
     "output_type": "execute_result"
    }
   ],
   "source": [
    "len(df_drop['item_code'].unique())"
   ]
  },
  {
   "cell_type": "code",
   "execution_count": 18,
   "metadata": {},
   "outputs": [],
   "source": [
    "#Rather than attempt to encode branch, group, item, channel, segment, and seller \n",
    "#I will create oods ratios based off \"churn rate\"\n",
    "#These ratios will be stored in a dictionary and used to replace the categorical values\n",
    "#To reduce cardinality of item_code, sales_channel, seller_code: \n",
    "#I will only calculate this number if the value falls into the 90% of data described\n",
    "#Otherwise it will be lumped in to \"other\"\n",
    "#If a value is unknown to the hashmap then it will fall in to \"other\" \n",
    "#and be given that churn rate\n",
    "#But first... split into train/test so we avoid data leakage"
   ]
  },
  {
   "cell_type": "code",
   "execution_count": 19,
   "metadata": {},
   "outputs": [],
   "source": [
    "train_df = df_drop.sample(frac=0.75, random_state=1019)\n",
    "test_df = df_drop.drop(train_df.index)"
   ]
  },
  {
   "cell_type": "code",
   "execution_count": 20,
   "metadata": {},
   "outputs": [
    {
     "name": "stderr",
     "output_type": "stream",
     "text": [
      "/srv/conda/lib/python3.6/site-packages/ipykernel_launcher.py:1: SettingWithCopyWarning: \n",
      "A value is trying to be set on a copy of a slice from a DataFrame\n",
      "\n",
      "See the caveats in the documentation: http://pandas.pydata.org/pandas-docs/stable/indexing.html#indexing-view-versus-copy\n",
      "  \"\"\"Entry point for launching an IPython kernel.\n"
     ]
    }
   ],
   "source": [
    "train_df['item_code'][train_df['item_code'] < train_df['item_code'].quantile(0.68)] = 'Unknown'"
   ]
  },
  {
   "cell_type": "code",
   "execution_count": 21,
   "metadata": {},
   "outputs": [
    {
     "name": "stderr",
     "output_type": "stream",
     "text": [
      "/srv/conda/lib/python3.6/site-packages/ipykernel_launcher.py:1: SettingWithCopyWarning: \n",
      "A value is trying to be set on a copy of a slice from a DataFrame\n",
      "\n",
      "See the caveats in the documentation: http://pandas.pydata.org/pandas-docs/stable/indexing.html#indexing-view-versus-copy\n",
      "  \"\"\"Entry point for launching an IPython kernel.\n"
     ]
    }
   ],
   "source": [
    "train_df['sales_channel'][train_df['sales_channel'] < train_df['sales_channel'].quantile(0.68)] = 'Unknown'"
   ]
  },
  {
   "cell_type": "code",
   "execution_count": 22,
   "metadata": {},
   "outputs": [
    {
     "name": "stderr",
     "output_type": "stream",
     "text": [
      "/srv/conda/lib/python3.6/site-packages/ipykernel_launcher.py:1: SettingWithCopyWarning: \n",
      "A value is trying to be set on a copy of a slice from a DataFrame\n",
      "\n",
      "See the caveats in the documentation: http://pandas.pydata.org/pandas-docs/stable/indexing.html#indexing-view-versus-copy\n",
      "  \"\"\"Entry point for launching an IPython kernel.\n"
     ]
    }
   ],
   "source": [
    "train_df['seller_code'][train_df['seller_code'] < train_df['seller_code'].quantile(0.68)] = 'Unknown'"
   ]
  },
  {
   "cell_type": "code",
   "execution_count": 23,
   "metadata": {},
   "outputs": [
    {
     "data": {
      "text/html": [
       "<div>\n",
       "<style scoped>\n",
       "    .dataframe tbody tr th:only-of-type {\n",
       "        vertical-align: middle;\n",
       "    }\n",
       "\n",
       "    .dataframe tbody tr th {\n",
       "        vertical-align: top;\n",
       "    }\n",
       "\n",
       "    .dataframe thead th {\n",
       "        text-align: right;\n",
       "    }\n",
       "</style>\n",
       "<table border=\"1\" class=\"dataframe\">\n",
       "  <thead>\n",
       "    <tr style=\"text-align: right;\">\n",
       "      <th></th>\n",
       "      <th>group_code</th>\n",
       "      <th>is_churn</th>\n",
       "      <th>item_code</th>\n",
       "      <th>item_total_price</th>\n",
       "      <th>quantity</th>\n",
       "      <th>sales_channel</th>\n",
       "      <th>segment_code</th>\n",
       "      <th>seller_code</th>\n",
       "      <th>total_price</th>\n",
       "      <th>unit_price</th>\n",
       "      <th>years_active</th>\n",
       "    </tr>\n",
       "  </thead>\n",
       "  <tbody>\n",
       "    <tr>\n",
       "      <th>64272</th>\n",
       "      <td>0</td>\n",
       "      <td>0</td>\n",
       "      <td>Unknown</td>\n",
       "      <td>59.81</td>\n",
       "      <td>1</td>\n",
       "      <td>Unknown</td>\n",
       "      <td>5</td>\n",
       "      <td>201</td>\n",
       "      <td>2400.09</td>\n",
       "      <td>59.81</td>\n",
       "      <td>5.378082</td>\n",
       "    </tr>\n",
       "    <tr>\n",
       "      <th>161495</th>\n",
       "      <td>2</td>\n",
       "      <td>1</td>\n",
       "      <td>Unknown</td>\n",
       "      <td>320.70</td>\n",
       "      <td>5</td>\n",
       "      <td>7</td>\n",
       "      <td>2</td>\n",
       "      <td>Unknown</td>\n",
       "      <td>489.75</td>\n",
       "      <td>56.32</td>\n",
       "      <td>3.076712</td>\n",
       "    </tr>\n",
       "    <tr>\n",
       "      <th>26892</th>\n",
       "      <td>2</td>\n",
       "      <td>1</td>\n",
       "      <td>Unknown</td>\n",
       "      <td>4.62</td>\n",
       "      <td>3</td>\n",
       "      <td>2</td>\n",
       "      <td>2</td>\n",
       "      <td>190</td>\n",
       "      <td>539.11</td>\n",
       "      <td>1.54</td>\n",
       "      <td>8.153425</td>\n",
       "    </tr>\n",
       "    <tr>\n",
       "      <th>124690</th>\n",
       "      <td>2</td>\n",
       "      <td>1</td>\n",
       "      <td>Unknown</td>\n",
       "      <td>320.70</td>\n",
       "      <td>5</td>\n",
       "      <td>7</td>\n",
       "      <td>2</td>\n",
       "      <td>Unknown</td>\n",
       "      <td>1085.70</td>\n",
       "      <td>56.32</td>\n",
       "      <td>3.742466</td>\n",
       "    </tr>\n",
       "    <tr>\n",
       "      <th>14753</th>\n",
       "      <td>0</td>\n",
       "      <td>0</td>\n",
       "      <td>Unknown</td>\n",
       "      <td>119.88</td>\n",
       "      <td>4</td>\n",
       "      <td>Unknown</td>\n",
       "      <td>0</td>\n",
       "      <td>Unknown</td>\n",
       "      <td>2804.63</td>\n",
       "      <td>29.97</td>\n",
       "      <td>1.978082</td>\n",
       "    </tr>\n",
       "  </tbody>\n",
       "</table>\n",
       "</div>"
      ],
      "text/plain": [
       "        group_code is_churn item_code  item_total_price  quantity  \\\n",
       "64272            0        0   Unknown             59.81         1   \n",
       "161495           2        1   Unknown            320.70         5   \n",
       "26892            2        1   Unknown              4.62         3   \n",
       "124690           2        1   Unknown            320.70         5   \n",
       "14753            0        0   Unknown            119.88         4   \n",
       "\n",
       "       sales_channel  segment_code seller_code  total_price  unit_price  \\\n",
       "64272        Unknown             5         201      2400.09       59.81   \n",
       "161495             7             2     Unknown       489.75       56.32   \n",
       "26892              2             2         190       539.11        1.54   \n",
       "124690             7             2     Unknown      1085.70       56.32   \n",
       "14753        Unknown             0     Unknown      2804.63       29.97   \n",
       "\n",
       "        years_active  \n",
       "64272       5.378082  \n",
       "161495      3.076712  \n",
       "26892       8.153425  \n",
       "124690      3.742466  \n",
       "14753       1.978082  "
      ]
     },
     "execution_count": 23,
     "metadata": {},
     "output_type": "execute_result"
    }
   ],
   "source": [
    "train_df.head()"
   ]
  },
  {
   "cell_type": "code",
   "execution_count": 24,
   "metadata": {},
   "outputs": [
    {
     "data": {
      "text/plain": [
       "1034"
      ]
     },
     "execution_count": 24,
     "metadata": {},
     "output_type": "execute_result"
    }
   ],
   "source": [
    "len(train_df['item_code'].unique())"
   ]
  },
  {
   "cell_type": "code",
   "execution_count": 25,
   "metadata": {},
   "outputs": [],
   "source": [
    "def churn_dict(col,df):\n",
    "    #calculated using training data only\n",
    "    churn_rate = {}\n",
    "    \n",
    "    for uid, grp in df.groupby(col):\n",
    "        uid = str(uid)\n",
    "        churn_rate[uid] = float(len(grp[grp.is_churn == '1'])) / float(len(grp)) #churn rate\n",
    "    \n",
    "    return churn_rate"
   ]
  },
  {
   "cell_type": "code",
   "execution_count": 26,
   "metadata": {},
   "outputs": [],
   "source": [
    "item_dict = churn_dict('item_code',train_df)"
   ]
  },
  {
   "cell_type": "code",
   "execution_count": 27,
   "metadata": {},
   "outputs": [],
   "source": [
    "channel_dict = churn_dict('sales_channel',train_df)"
   ]
  },
  {
   "cell_type": "code",
   "execution_count": 28,
   "metadata": {},
   "outputs": [],
   "source": [
    "seller_dict = churn_dict('seller_code',train_df)"
   ]
  },
  {
   "cell_type": "code",
   "execution_count": 29,
   "metadata": {},
   "outputs": [],
   "source": [
    "seller_code_masked = train_df['seller_code'].astype(str).replace(seller_dict)"
   ]
  },
  {
   "cell_type": "code",
   "execution_count": 30,
   "metadata": {},
   "outputs": [],
   "source": [
    "train_df['seller_code'] = seller_code_masked"
   ]
  },
  {
   "cell_type": "code",
   "execution_count": 31,
   "metadata": {},
   "outputs": [],
   "source": [
    "item_code_masked = train_df['item_code'].astype(str).replace(item_dict)"
   ]
  },
  {
   "cell_type": "code",
   "execution_count": 32,
   "metadata": {},
   "outputs": [],
   "source": [
    "train_df['item_code'] = item_code_masked"
   ]
  },
  {
   "cell_type": "code",
   "execution_count": 33,
   "metadata": {},
   "outputs": [],
   "source": [
    "channel_code_masked = train_df['sales_channel'].astype(str).replace(channel_dict)"
   ]
  },
  {
   "cell_type": "code",
   "execution_count": 34,
   "metadata": {},
   "outputs": [],
   "source": [
    "train_df['sales_channel'] = channel_code_masked"
   ]
  },
  {
   "cell_type": "code",
   "execution_count": 35,
   "metadata": {},
   "outputs": [],
   "source": [
    "seller_code_masked_test = test_df['seller_code'].astype(str).replace(seller_dict)\n",
    "item_code_masked_test = test_df['item_code'].astype(str).replace(item_dict)\n",
    "channel_code_masked_test = test_df['sales_channel'].astype(str).replace(channel_dict)"
   ]
  },
  {
   "cell_type": "code",
   "execution_count": 36,
   "metadata": {},
   "outputs": [],
   "source": [
    "#if the value wasn't replaced by the dictionary because the test set hadn't seen the val, \n",
    "#it will be >1 (as it's still the original code), so we can replace it with the 'Unknown' val"
   ]
  },
  {
   "cell_type": "code",
   "execution_count": 37,
   "metadata": {},
   "outputs": [],
   "source": [
    "test_df['seller_code'] = [seller_dict['Unknown'] if i > 1.0 else i for i in seller_code_masked_test]"
   ]
  },
  {
   "cell_type": "code",
   "execution_count": 38,
   "metadata": {},
   "outputs": [],
   "source": [
    "test_df['item_code'] = [seller_dict['Unknown'] if i > 1.0 else i for i in item_code_masked_test]"
   ]
  },
  {
   "cell_type": "code",
   "execution_count": 39,
   "metadata": {},
   "outputs": [],
   "source": [
    "test_df['channel_code'] = [seller_dict['Unknown'] if i > 1.0 else i for i in channel_code_masked_test]"
   ]
  },
  {
   "cell_type": "code",
   "execution_count": 40,
   "metadata": {},
   "outputs": [],
   "source": [
    "#now that i have engineered some features, i will train a logistic regession (i'm going to\n",
    "#go with a gradient booster as I've had good expereince using this algorithm on imbalnced classes)\n",
    "#with a few different learning rates before baking the final model\n",
    "#my end reault here would be to find those customers we think are about to churn \n",
    "#(i.e. we classify them as churn but they aren't)and reach out to them to offer a sale/incentive"
   ]
  },
  {
   "cell_type": "code",
   "execution_count": 41,
   "metadata": {},
   "outputs": [],
   "source": [
    "y_train = train_df['is_churn'].values\n",
    "X_train = train_df.drop('is_churn',axis=1)"
   ]
  },
  {
   "cell_type": "code",
   "execution_count": 42,
   "metadata": {},
   "outputs": [],
   "source": [
    "y_train = [0 if i is None else i for i in y_train]\n",
    "y_train = [int(i) for i in y_train]"
   ]
  },
  {
   "cell_type": "code",
   "execution_count": 43,
   "metadata": {},
   "outputs": [],
   "source": [
    "y_test = test_df['is_churn'].values\n",
    "X_test = test_df.drop('is_churn',axis=1)"
   ]
  },
  {
   "cell_type": "code",
   "execution_count": 44,
   "metadata": {},
   "outputs": [],
   "source": [
    "y_test = [0 if i is None else i for i in y_test]\n",
    "y_test = [int(i) for i in y_test]"
   ]
  },
  {
   "cell_type": "code",
   "execution_count": 45,
   "metadata": {},
   "outputs": [],
   "source": [
    "def transform_pipeline(cols):\n",
    "    \n",
    "    si_step = ('si',SimpleImputer(strategy='median'))\n",
    "\n",
    "    steps = [si_step]\n",
    "    trans_pipe = Pipeline(steps)\n",
    "\n",
    "    transformers = [('all_cols', trans_pipe, cols)]\n",
    "    \n",
    "    ct = ColumnTransformer(transformers=transformers)\n",
    "    return ct"
   ]
  },
  {
   "cell_type": "code",
   "execution_count": 46,
   "metadata": {},
   "outputs": [],
   "source": [
    "cols = list(X_train.columns)"
   ]
  },
  {
   "cell_type": "code",
   "execution_count": 47,
   "metadata": {},
   "outputs": [],
   "source": [
    "ct = transform_pipeline(cols)"
   ]
  },
  {
   "cell_type": "code",
   "execution_count": 48,
   "metadata": {},
   "outputs": [
    {
     "data": {
      "text/plain": [
       "ColumnTransformer(n_jobs=None, remainder='drop', sparse_threshold=0.3,\n",
       "                  transformer_weights=None,\n",
       "                  transformers=[('all_cols',\n",
       "                                 Pipeline(memory=None,\n",
       "                                          steps=[('si',\n",
       "                                                  SimpleImputer(add_indicator=False,\n",
       "                                                                copy=True,\n",
       "                                                                fill_value=None,\n",
       "                                                                missing_values=nan,\n",
       "                                                                strategy='median',\n",
       "                                                                verbose=0))],\n",
       "                                          verbose=False),\n",
       "                                 ['group_code', 'item_code', 'item_total_price',\n",
       "                                  'quantity', 'sales_channel', 'segment_code',\n",
       "                                  'seller_code', 'total_price', 'unit_price',\n",
       "                                  'years_active'])],\n",
       "                  verbose=False)"
      ]
     },
     "execution_count": 48,
     "metadata": {},
     "output_type": "execute_result"
    }
   ],
   "source": [
    "ct"
   ]
  },
  {
   "cell_type": "code",
   "execution_count": 49,
   "metadata": {},
   "outputs": [],
   "source": [
    "X_train_trans = ct.fit_transform(X_train)\n",
    "X_test_trans = ct.transform(X_test)"
   ]
  },
  {
   "cell_type": "code",
   "execution_count": 50,
   "metadata": {},
   "outputs": [
    {
     "data": {
      "text/plain": [
       "array([[0.00000000e+00, 1.91989951e-01, 5.98100000e+01, ...,\n",
       "        2.40009000e+03, 5.98100000e+01, 5.37808219e+00],\n",
       "       [2.00000000e+00, 1.91989951e-01, 3.20700000e+02, ...,\n",
       "        4.89750000e+02, 5.63200000e+01, 3.07671233e+00],\n",
       "       [2.00000000e+00, 1.91989951e-01, 4.62000000e+00, ...,\n",
       "        5.39110000e+02, 1.54000000e+00, 8.15342466e+00],\n",
       "       ...,\n",
       "       [0.00000000e+00, 1.91989951e-01, 1.00430000e+02, ...,\n",
       "        1.76152000e+03, 2.78200000e+01, 3.32328767e+00],\n",
       "       [0.00000000e+00, 3.61271676e-01, 2.28950000e+02, ...,\n",
       "        2.50652000e+03, 4.57900000e+01, 6.52328767e+00],\n",
       "       [0.00000000e+00, 2.36734694e-01, 1.44960000e+02, ...,\n",
       "        1.53492000e+03, 4.83200000e+01, 2.49315068e+00]])"
      ]
     },
     "execution_count": 50,
     "metadata": {},
     "output_type": "execute_result"
    }
   ],
   "source": [
    "X_train_trans"
   ]
  },
  {
   "cell_type": "code",
   "execution_count": 51,
   "metadata": {},
   "outputs": [],
   "source": [
    "learning_rates = [1.5, 1, 0.5, 0.25, 0.1, 0.05, 0.01]\n",
    "train_results = []\n",
    "test_results = []\n",
    "for eta in learning_rates:\n",
    "    model = GradientBoostingClassifier(learning_rate=eta)\n",
    "    model.fit(X_train_trans, y_train)\n",
    "    train_pred = model.predict(X_train_trans)\n",
    "    false_positive_rate, true_positive_rate, thresholds = roc_curve(y_train, train_pred)\n",
    "    roc_auc = auc(false_positive_rate, true_positive_rate)\n",
    "    train_results.append(roc_auc)\n",
    "    y_pred = model.predict(X_test_trans)\n",
    "    false_positive_rate, true_positive_rate, thresholds = roc_curve(y_test, y_pred)\n",
    "    roc_auc = auc(false_positive_rate, true_positive_rate)\n",
    "    test_results.append(roc_auc)"
   ]
  },
  {
   "cell_type": "code",
   "execution_count": 52,
   "metadata": {},
   "outputs": [
    {
     "data": {
      "image/png": "[encoded data removed]",
      "text/plain": [
       "<Figure size 432x288 with 1 Axes>"
      ]
     },
     "metadata": {
      "needs_background": "light"
     },
     "output_type": "display_data"
    }
   ],
   "source": [
    "line1, = plt.plot(learning_rates, train_results, 'b', label='Train AUC')\n",
    "line2, = plt.plot(learning_rates, test_results, 'r', label='Test AUC')\n",
    "plt.legend(handler_map={line1: HandlerLine2D(numpoints=2)})\n",
    "plt.ylabel('AUC score')\n",
    "plt.xlabel('learning rate')\n",
    "plt.show()"
   ]
  },
  {
   "cell_type": "code",
   "execution_count": 53,
   "metadata": {},
   "outputs": [],
   "source": [
    "best_rate = 0.05"
   ]
  },
  {
   "cell_type": "code",
   "execution_count": 54,
   "metadata": {},
   "outputs": [],
   "source": [
    "estimators = [1,2,4,8,16,32,64,100,200]\n",
    "train_results = []\n",
    "test_results = []\n",
    "for est in estimators:\n",
    "    model = GradientBoostingClassifier(n_estimators=est)\n",
    "    model.fit(X_train_trans, y_train)\n",
    "    train_pred = model.predict(X_train_trans)\n",
    "    false_positive_rate, true_positive_rate, thresholds = roc_curve(y_train, train_pred)\n",
    "    roc_auc = auc(false_positive_rate, true_positive_rate)\n",
    "    train_results.append(roc_auc)\n",
    "    y_pred = model.predict(X_test_trans)\n",
    "    false_positive_rate, true_positive_rate, thresholds = roc_curve(y_test, y_pred)\n",
    "    roc_auc = auc(false_positive_rate, true_positive_rate)\n",
    "    test_results.append(roc_auc)"
   ]
  },
  {
   "cell_type": "code",
   "execution_count": 55,
   "metadata": {},
   "outputs": [
    {
     "data": {
      "image/png": "[encoded data removed]",
      "text/plain": [
       "<Figure size 432x288 with 1 Axes>"
      ]
     },
     "metadata": {
      "needs_background": "light"
     },
     "output_type": "display_data"
    }
   ],
   "source": [
    "line1, = plt.plot(estimators, train_results, 'b', label='Train AUC')\n",
    "line2, = plt.plot(estimators, test_results, 'r', label='Test AUC')\n",
    "plt.legend(handler_map={line1: HandlerLine2D(numpoints=2)})\n",
    "plt.ylabel('AUC score')\n",
    "plt.xlabel('n_estimators')\n",
    "plt.show()"
   ]
  },
  {
   "cell_type": "code",
   "execution_count": 56,
   "metadata": {},
   "outputs": [],
   "source": [
    "best_est = 32"
   ]
  },
  {
   "cell_type": "code",
   "execution_count": 57,
   "metadata": {},
   "outputs": [],
   "source": [
    "min_splits = np.linspace(0.1,1.0,10,endpoint=True)\n",
    "train_results = []\n",
    "test_results = []\n",
    "for split in min_splits:\n",
    "    model = GradientBoostingClassifier(min_samples_split=split)\n",
    "    model.fit(X_train_trans, y_train)\n",
    "    train_pred = model.predict(X_train_trans)\n",
    "    false_positive_rate, true_positive_rate, thresholds = roc_curve(y_train, train_pred)\n",
    "    roc_auc = auc(false_positive_rate, true_positive_rate)\n",
    "    train_results.append(roc_auc)\n",
    "    y_pred = model.predict(X_test_trans)\n",
    "    false_positive_rate, true_positive_rate, thresholds = roc_curve(y_test, y_pred)\n",
    "    roc_auc = auc(false_positive_rate, true_positive_rate)\n",
    "    test_results.append(roc_auc)"
   ]
  },
  {
   "cell_type": "code",
   "execution_count": 58,
   "metadata": {},
   "outputs": [
    {
     "data": {
      "image/png": "[encoded data removed]",
      "text/plain": [
       "<Figure size 432x288 with 1 Axes>"
      ]
     },
     "metadata": {
      "needs_background": "light"
     },
     "output_type": "display_data"
    }
   ],
   "source": [
    "line1, = plt.plot(min_splits, train_results, 'b', label='Train AUC')\n",
    "line2, = plt.plot(min_splits, test_results, 'r', label='Test AUC')\n",
    "plt.legend(handler_map={line1: HandlerLine2D(numpoints=2)})\n",
    "plt.ylabel('AUC score')\n",
    "plt.xlabel('min_samples_split')\n",
    "plt.show()"
   ]
  },
  {
   "cell_type": "code",
   "execution_count": 59,
   "metadata": {},
   "outputs": [],
   "source": [
    "best_split = 0.2"
   ]
  },
  {
   "cell_type": "code",
   "execution_count": 60,
   "metadata": {},
   "outputs": [],
   "source": [
    "min_samples_leafs = np.linspace(0.1,0.5,5,endpoint=True)\n",
    "train_results = []\n",
    "test_results = []\n",
    "for leaf in min_samples_leafs:\n",
    "    model = GradientBoostingClassifier(min_samples_leaf=leaf)\n",
    "    model.fit(X_train_trans, y_train)\n",
    "    train_pred = model.predict(X_train_trans)\n",
    "    false_positive_rate, true_positive_rate, thresholds = roc_curve(y_train, train_pred)\n",
    "    roc_auc = auc(false_positive_rate, true_positive_rate)\n",
    "    train_results.append(roc_auc)\n",
    "    y_pred = model.predict(X_test_trans)\n",
    "    false_positive_rate, true_positive_rate, thresholds = roc_curve(y_test, y_pred)\n",
    "    roc_auc = auc(false_positive_rate, true_positive_rate)\n",
    "    test_results.append(roc_auc)"
   ]
  },
  {
   "cell_type": "code",
   "execution_count": 61,
   "metadata": {},
   "outputs": [
    {
     "data": {
      "image/png": "[encoded data removed]",
      "text/plain": [
       "<Figure size 432x288 with 1 Axes>"
      ]
     },
     "metadata": {
      "needs_background": "light"
     },
     "output_type": "display_data"
    }
   ],
   "source": [
    "line1, = plt.plot(min_samples_leafs, train_results, 'b', label='Train AUC')\n",
    "line2, = plt.plot(min_samples_leafs, test_results, 'r', label='Test AUC')\n",
    "plt.legend(handler_map={line1: HandlerLine2D(numpoints=2)})\n",
    "plt.ylabel('AUC score')\n",
    "plt.xlabel('min_samples_leaf')\n",
    "plt.show()"
   ]
  },
  {
   "cell_type": "code",
   "execution_count": 62,
   "metadata": {},
   "outputs": [],
   "source": [
    "best_leaf = 0.2"
   ]
  },
  {
   "cell_type": "code",
   "execution_count": 63,
   "metadata": {},
   "outputs": [],
   "source": [
    "def ml_pipeline():\n",
    "    ss_step = ('ss', StandardScaler(with_mean=True))\n",
    "\n",
    "    gb_step = ('gb',GradientBoostingClassifier(learning_rate = 0.05,\n",
    "                                              n_estimators=best_est,\n",
    "                                              max_depth=5,\n",
    "                                              min_samples_split=best_split,\n",
    "                                              min_samples_leaf=best_leaf))\n",
    "    \n",
    "    pipeline_steps = [ss_step, gb_step]\n",
    "    \n",
    "    ml_pipe = pipe(pipeline_steps)\n",
    "    \n",
    "    return ml_pipe"
   ]
  },
  {
   "cell_type": "code",
   "execution_count": 64,
   "metadata": {},
   "outputs": [],
   "source": [
    "ml_pipe = ml_pipeline()"
   ]
  },
  {
   "cell_type": "code",
   "execution_count": 65,
   "metadata": {},
   "outputs": [
    {
     "data": {
      "text/plain": [
       "Pipeline(memory=None,\n",
       "         steps=[('ss',\n",
       "                 StandardScaler(copy=True, with_mean=True, with_std=True)),\n",
       "                ('gb',\n",
       "                 GradientBoostingClassifier(criterion='friedman_mse', init=None,\n",
       "                                            learning_rate=0.05, loss='deviance',\n",
       "                                            max_depth=5, max_features=None,\n",
       "                                            max_leaf_nodes=None,\n",
       "                                            min_impurity_decrease=0.0,\n",
       "                                            min_impurity_split=None,\n",
       "                                            min_samples_leaf=0.2,\n",
       "                                            min_samples_split=0.2,\n",
       "                                            min_weight_fraction_leaf=0.0,\n",
       "                                            n_estimators=32,\n",
       "                                            n_iter_no_change=None,\n",
       "                                            presort='auto', random_state=None,\n",
       "                                            subsample=1.0, tol=0.0001,\n",
       "                                            validation_fraction=0.1, verbose=0,\n",
       "                                            warm_start=False))],\n",
       "         verbose=False)"
      ]
     },
     "execution_count": 65,
     "metadata": {},
     "output_type": "execute_result"
    }
   ],
   "source": [
    "ml_pipe.fit(X_train_trans,y_train)"
   ]
  },
  {
   "cell_type": "code",
   "execution_count": 66,
   "metadata": {},
   "outputs": [],
   "source": [
    "y_pred = ml_pipe.predict(X_test_trans)"
   ]
  },
  {
   "cell_type": "code",
   "execution_count": 68,
   "metadata": {},
   "outputs": [],
   "source": [
    "y_prob = ml_pipe.predict_proba(X_test_trans)[:,1]"
   ]
  },
  {
   "cell_type": "code",
   "execution_count": null,
   "metadata": {},
   "outputs": [],
   "source": [
    "#metrics"
   ]
  },
  {
   "cell_type": "code",
   "execution_count": 69,
   "metadata": {},
   "outputs": [
    {
     "name": "stdout",
     "output_type": "stream",
     "text": [
      "              precision    recall  f1-score   support\n",
      "\n",
      "           0       0.95      0.92      0.93     41459\n",
      "           1       0.68      0.78      0.73      9648\n",
      "\n",
      "    accuracy                           0.89     51107\n",
      "   macro avg       0.82      0.85      0.83     51107\n",
      "weighted avg       0.90      0.89      0.89     51107\n",
      "\n"
     ]
    }
   ],
   "source": [
    "cr = classification_report(y_test,y_pred)\n",
    "print(cr)"
   ]
  },
  {
   "cell_type": "code",
   "execution_count": 72,
   "metadata": {},
   "outputs": [
    {
     "name": "stdout",
     "output_type": "stream",
     "text": [
      "[[37954  3505]\n",
      " [ 2103  7545]]\n"
     ]
    }
   ],
   "source": [
    "cm = confusion_matrix(y_test,y_pred)\n",
    "print(cm)"
   ]
  },
  {
   "cell_type": "code",
   "execution_count": null,
   "metadata": {},
   "outputs": [],
   "source": [
    "#This seems to be a large number of flase positives creating a large caseload. This may be difficult if actual \n",
    "#people will be targeting these customers to offere incentives, but if it's an email blast it may not be cumbersome."
   ]
  },
  {
   "cell_type": "code",
   "execution_count": 75,
   "metadata": {},
   "outputs": [
    {
     "name": "stdout",
     "output_type": "stream",
     "text": [
      "Collecting seaborn\n",
      "\u001b[?25l  Downloading https://files.pythonhosted.org/packages/a8/76/220ba4420459d9c4c9c9587c6ce607bf56c25b3d3d2de62056efe482dadc/seaborn-0.9.0-py3-none-any.whl (208kB)\n",
      "\u001b[K    100% |████████████████████████████████| 215kB 23.2MB/s ta 0:00:01\n",
      "\u001b[?25hRequirement already satisfied: matplotlib>=1.4.3 in /srv/conda/lib/python3.6/site-packages (from seaborn) (3.0.3)\n",
      "Requirement already satisfied: scipy>=0.14.0 in /srv/conda/lib/python3.6/site-packages (from seaborn) (1.2.1)\n",
      "Requirement already satisfied: pandas>=0.15.2 in /srv/conda/lib/python3.6/site-packages (from seaborn) (0.24.2)\n",
      "Requirement already satisfied: numpy>=1.9.3 in /srv/conda/lib/python3.6/site-packages (from seaborn) (1.16.3)\n",
      "Requirement already satisfied: cycler>=0.10 in /srv/conda/lib/python3.6/site-packages (from matplotlib>=1.4.3->seaborn) (0.10.0)\n",
      "Requirement already satisfied: kiwisolver>=1.0.1 in /srv/conda/lib/python3.6/site-packages (from matplotlib>=1.4.3->seaborn) (1.0.1)\n",
      "Requirement already satisfied: pyparsing!=2.0.4,!=2.1.2,!=2.1.6,>=2.0.1 in /srv/conda/lib/python3.6/site-packages (from matplotlib>=1.4.3->seaborn) (2.4.0)\n",
      "Requirement already satisfied: python-dateutil>=2.1 in /srv/conda/lib/python3.6/site-packages (from matplotlib>=1.4.3->seaborn) (2.8.0)\n",
      "Requirement already satisfied: pytz>=2011k in /srv/conda/lib/python3.6/site-packages (from pandas>=0.15.2->seaborn) (2019.1)\n",
      "Requirement already satisfied: six in /srv/conda/lib/python3.6/site-packages (from cycler>=0.10->matplotlib>=1.4.3->seaborn) (1.12.0)\n",
      "Requirement already satisfied: setuptools in /srv/conda/lib/python3.6/site-packages (from kiwisolver>=1.0.1->matplotlib>=1.4.3->seaborn) (40.8.0)\n",
      "Installing collected packages: seaborn\n",
      "Successfully installed seaborn-0.9.0\n",
      "Note: you may need to restart the kernel to use updated packages.\n"
     ]
    }
   ],
   "source": [
    "pip install seaborn"
   ]
  },
  {
   "cell_type": "code",
   "execution_count": 76,
   "metadata": {},
   "outputs": [],
   "source": [
    "import seaborn as sns"
   ]
  },
  {
   "cell_type": "code",
   "execution_count": 78,
   "metadata": {},
   "outputs": [
    {
     "data": {
      "image/png": "[encoded data removed]",
      "text/plain": [
       "<Figure size 720x720 with 2 Axes>"
      ]
     },
     "metadata": {
      "needs_background": "light"
     },
     "output_type": "display_data"
    }
   ],
   "source": [
    "def plot_cm(cm):\n",
    "    labels = ['No Churn','Churn']\n",
    "    plt.figure(figsize=(10,10))\n",
    "    sns.heatmap(cm,xticklabels=labels,yticklabels=labels,annot=True,fmt='d')\n",
    "    plt.title('Confusion Matrix')\n",
    "    plt.xlabel('Predicted Class')\n",
    "    plt.ylabel('True Class')\n",
    "    plt.show\n",
    "\n",
    "plot_cm(cm)"
   ]
  },
  {
   "cell_type": "code",
   "execution_count": 79,
   "metadata": {},
   "outputs": [],
   "source": [
    "fpr, tpr, thresholds = roc_curve(y_test,y_prob)\n",
    "roc_auc = auc(fpr,tpr)"
   ]
  },
  {
   "cell_type": "code",
   "execution_count": 81,
   "metadata": {},
   "outputs": [],
   "source": [
    "def plot_roc(fpr, tpr, thresholds,roc_auc):\n",
    "    plt.figure(figsize=(15,8))\n",
    "    plt.title('Receiver Operating Characteristic AUC')\n",
    "    plt.plot(fpr,tpr,'b',label='AUC = %0.2f'%roc_auc)\n",
    "    plt.legend(loc='lower right')\n",
    "    plt.plot([0,1],[0,1],'r--')\n",
    "    plt.xlim([-0.1,1.1])\n",
    "    plt.ylim([-0.1,1.1])\n",
    "    plt.xlabel('False Positive Rate')\n",
    "    plt.ylabel('True Positive Rate')\n",
    "    plt.show()"
   ]
  },
  {
   "cell_type": "code",
   "execution_count": 82,
   "metadata": {},
   "outputs": [
    {
     "data": {
      "image/png": "[encoded data removed]",
      "text/plain": [
       "<Figure size 1080x576 with 1 Axes>"
      ]
     },
     "metadata": {
      "needs_background": "light"
     },
     "output_type": "display_data"
    }
   ],
   "source": [
    "plot_roc(fpr, tpr, thresholds,roc_auc)"
   ]
  },
  {
   "cell_type": "code",
   "execution_count": null,
   "metadata": {},
   "outputs": [],
   "source": [
    "#The area under the curve is high, but not so high that I'm worried about overfitting."
   ]
  }
 ],
 "metadata": {
  "kernelspec": {
   "display_name": "Python 3",
   "language": "python",
   "name": "python3"
  },
  "language_info": {
   "codemirror_mode": {
    "name": "ipython",
    "version": 3
   },
   "file_extension": ".py",
   "mimetype": "text/x-python",
   "name": "python",
   "nbconvert_exporter": "python",
   "pygments_lexer": "ipython3",
   "version": "3.6.7"
  }
 },
 "nbformat": 4,
 "nbformat_minor": 2
}
